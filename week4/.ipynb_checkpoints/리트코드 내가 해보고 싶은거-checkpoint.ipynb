{
 "cells": [
  {
   "cell_type": "markdown",
   "metadata": {},
   "source": [
    "### 120. Triangle\n",
    "- (medium)"
   ]
  },
  {
   "cell_type": "markdown",
   "metadata": {},
   "source": [
    "1. 1번 두 수의 합 (easy)\n",
    "2. 42번 빗물 트래핑 (hard)  [50%]\n",
    "3. 15번 세 수의 합 (medium) [27%]\n",
    "4. 561번 배열 파티션 (easy)\n",
    "5. 238번 자신을 제외한 배열의 곱 (medium)[61%]\n",
    "6. 1672. Richest Customer Wealth (easy)\n",
    "\n",
    "내가 맡은 영역 -> 2,5"
   ]
  },
  {
   "cell_type": "code",
   "execution_count": null,
   "metadata": {},
   "outputs": [],
   "source": []
  },
  {
   "cell_type": "code",
   "execution_count": null,
   "metadata": {},
   "outputs": [],
   "source": []
  },
  {
   "cell_type": "code",
   "execution_count": null,
   "metadata": {},
   "outputs": [],
   "source": []
  },
  {
   "cell_type": "markdown",
   "metadata": {},
   "source": [
    "```\n",
    "i를 아래와 같이 1, 2, 3, 4.. 순차적으로 돌리기 위해\n",
    "변수 i, iterable 사용 :  [iterable] : \n",
    "\n",
    "[2]\n",
    "[3, 4]\n",
    "[6, 5, 7]\n",
    "[4, 1, 8, 3]\n",
    "```"
   ]
  },
  {
   "cell_type": "code",
   "execution_count": 97,
   "metadata": {},
   "outputs": [],
   "source": [
    "class Solution:\n",
    "    def minimumTotal(self, triangle: [[int]]) -> int:\n",
    "        dim1_triangle=[]\n",
    "        iterable, i= 0,1\n",
    "        for t in triangle:\n",
    "            print(t)\n",
    "        \n",
    "        \n",
    "        for t in triangle :  # 한줄로 풀어 쓰기 2차원 -> 1차원\n",
    "            dim1_triangle +=t\n",
    "            \n",
    "        print(dim1_triangle)\n",
    "        for idx , tri in enumerate(dim1_triangle) :\n",
    "            iterable+=1\n",
    "            if i < iterable:   # i를 트\n",
    "                print(\"i :\", i, \"     tri : \", tri)\n",
    "                i += iterable\n",
    "                iterable = 0\n",
    "\n",
    "            #print(tri)\n",
    "                \n",
    "    \n",
    "        return triangle"
   ]
  },
  {
   "cell_type": "code",
   "execution_count": 98,
   "metadata": {},
   "outputs": [
    {
     "name": "stdout",
     "output_type": "stream",
     "text": [
      "[2]\n",
      "[3, 4]\n",
      "[6, 5, 7]\n",
      "[4, 1, 8, 3]\n",
      "[2, 3, 4, 6, 5, 7, 4, 1, 8, 3]\n",
      "i : 1      tri :  3\n",
      "i : 3      tri :  7\n",
      "[[2], [3, 4], [6, 5, 7], [4, 1, 8, 3]]\n"
     ]
    }
   ],
   "source": [
    "# 리스트 안의 정수 3개를 뽑았을떄 0이 만들어지는 리스트 출력\n",
    "triangle1 = [[2],[3,4],[6,5,7],[4,1,8,3]]\n",
    "triangle2 = [[-10]]\n",
    "res = Solution.minimumTotal(0,triangle1)\n",
    "print(res)"
   ]
  },
  {
   "cell_type": "code",
   "execution_count": null,
   "metadata": {},
   "outputs": [],
   "source": []
  }
 ],
 "metadata": {
  "kernelspec": {
   "display_name": "Python 3",
   "language": "python",
   "name": "python3"
  },
  "language_info": {
   "codemirror_mode": {
    "name": "ipython",
    "version": 3
   },
   "file_extension": ".py",
   "mimetype": "text/x-python",
   "name": "python",
   "nbconvert_exporter": "python",
   "pygments_lexer": "ipython3",
   "version": "3.7.6"
  }
 },
 "nbformat": 4,
 "nbformat_minor": 4
}
