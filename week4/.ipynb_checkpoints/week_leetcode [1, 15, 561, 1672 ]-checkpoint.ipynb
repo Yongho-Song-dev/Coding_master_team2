{
 "cells": [
  {
   "cell_type": "markdown",
   "metadata": {},
   "source": [
    "### 1번 Two Sum\n",
    "\n",
    "정수 nums의 배열과 정수 대상이 주어지면 대상에 합산되도록 두 숫자의 인덱스를 반환합니다.\n",
    "\n",
    "각 입력에 정확히 하나의 솔루션이 있다고 가정 할 수 있으며 동일한 요소를 두 번 사용할 수 없습니다.\n",
    "\n",
    "어떤 순서로든 답변을 반환 할 수 있습니다.\n"
   ]
  },
  {
   "cell_type": "markdown",
   "metadata": {},
   "source": [
    "- 동일한 요소를 2번 사용할 수 없고 정확히 하나의 솔루션이 존재한다.\n",
    "- -> 이 말은 a+b=c가 오로지 하나만 존재한다는 의미이고 이것을 key-value로 보면\n",
    "- c-b =a , c-a = b target이 되는 c와 둘 중 하나의 값을 빼는 경우  다른 값을 부르게된다.\n",
    "\n",
    "- Key-Value로 풀자."
   ]
  },
  {
   "cell_type": "code",
   "execution_count": 6,
   "metadata": {},
   "outputs": [],
   "source": [
    "class Solution:\n",
    "    def twoSum(self, nums: [int], target: int) -> [int]:\n",
    "        res={}\n",
    "        for i ,n in enumerate(nums):\n",
    "            Key = target - n\n",
    "            print(\"Key : \", Key )\n",
    "            if res.get(Key) != None:\n",
    "                return [res[Key],i]\n",
    "            else :\n",
    "                res[n] =i"
   ]
  },
  {
   "cell_type": "code",
   "execution_count": 8,
   "metadata": {},
   "outputs": [
    {
     "name": "stdout",
     "output_type": "stream",
     "text": [
      "Key :  7\n",
      "Key :  2\n",
      "[0, 1]\n"
     ]
    }
   ],
   "source": [
    "nums1 = [2,7,11,15]\n",
    "target1 = 9\n",
    "res = Solution.twoSum(0,nums1, target1)\n",
    "print(res)"
   ]
  },
  {
   "cell_type": "markdown",
   "metadata": {},
   "source": [
    "#### 15번 3Sum\n",
    "\n",
    "\n",
    "n 정수의 배열 nums가 주어지면 a + b + c = 0과 같은 nums에 a, b, c 요소가 있습니까? 0의 합을 제공하는 배열에서 모든 고유 한 3 중화를 찾습니다.\n",
    "\n",
    "솔루션 세트에는 중복 된 세 개의 삼중점이 포함되어서는 안됩니다."
   ]
  },
  {
   "cell_type": "code",
   "execution_count": 9,
   "metadata": {},
   "outputs": [
    {
     "ename": "SyntaxError",
     "evalue": "unexpected EOF while parsing (<ipython-input-9-45c64ad1de0b>, line 3)",
     "output_type": "error",
     "traceback": [
      "\u001b[1;36m  File \u001b[1;32m\"<ipython-input-9-45c64ad1de0b>\"\u001b[1;36m, line \u001b[1;32m3\u001b[0m\n\u001b[1;33m    \u001b[0m\n\u001b[1;37m    ^\u001b[0m\n\u001b[1;31mSyntaxError\u001b[0m\u001b[1;31m:\u001b[0m unexpected EOF while parsing\n"
     ]
    }
   ],
   "source": [
    "class Solution:\n",
    "    def threeSum(self, nums: [int]) -> [[int]]:\n",
    "        res = {}\n",
    "        for idx,n enumerate(nums) :\n",
    "            "
   ]
  },
  {
   "cell_type": "code",
   "execution_count": null,
   "metadata": {},
   "outputs": [],
   "source": [
    "nums1 = [2,7,11,15]\n",
    "target1 = 9\n",
    "res = Solution.twoSum(0,nums1, target1)\n",
    "print(res)"
   ]
  },
  {
   "cell_type": "code",
   "execution_count": null,
   "metadata": {},
   "outputs": [],
   "source": []
  },
  {
   "cell_type": "markdown",
   "metadata": {},
   "source": [
    "#### 561번 Array Partition I\n",
    "\n",
    "\n",
    "\n",
    "2n 정수의 정수 배열 num이 주어지면이 정수를 n 쌍 (a1, b1), (a2, b2), ..., (an, bn)으로 그룹화하여 모든 i에 대한 min (ai, bi)의 합이되도록합니다. 최대화됩니다. 최대화 된 합계를 반환합니다."
   ]
  },
  {
   "cell_type": "markdown",
   "metadata": {},
   "source": [
    "- 작은 순으로 2쌍을 모아서 해당 쌍의 최소를 뽑은 후 다 더한다.\n",
    "\n",
    "\n",
    "- 2n정수의 정수 배열이니 주어진 리스트의 길이는 짝수 이다."
   ]
  },
  {
   "cell_type": "code",
   "execution_count": 78,
   "metadata": {},
   "outputs": [],
   "source": [
    "# 288 ms\n",
    "class Solution:\n",
    "    def arrayPairSum(self, nums: [int]) -> int:\n",
    "        sum_n = 0\n",
    "        nums.sort()\n",
    "        for idx , n in enumerate(nums):\n",
    "            #print(idx+1)\n",
    "            if (idx+1) %2 == 0 : # 인덱스를 2개 단위로 자르기 \n",
    "                sum_n += nums[idx-1],n\n",
    "        print(\"sum_n : \", sum_n)\n",
    "        return sum_n"
   ]
  },
  {
   "cell_type": "code",
   "execution_count": 107,
   "metadata": {},
   "outputs": [],
   "source": [
    "# 252ms\n",
    "# 정렬을 하는 경우 홀수 번째의 값이 무조건 더 작기 때문에\n",
    "# 해당 값만 따로 뽑아서 리스트를 만든 후 sum을 한다.\n",
    "# 정렬 후 홀수번째 값만 반복 후 sum하기\n",
    "class Solution:\n",
    "    def arrayPairSum(self, nums: [int]) -> int:\n",
    "        nums.sort() \n",
    "        return sum([n for n in nums[0::2]])"
   ]
  },
  {
   "cell_type": "code",
   "execution_count": null,
   "metadata": {},
   "outputs": [],
   "source": [
    "# 244ms\n",
    "# .sort() 와 sorted를 같이 썻는데 더 빠르게 나온 점은 모르겠다...\n",
    "class Solution:\n",
    "    def arrayPairSum(self, nums: List[int]) -> int:\n",
    "        nums.sort()\n",
    "        return sum([n for n in sorted(nums[0::2])])"
   ]
  },
  {
   "cell_type": "code",
   "execution_count": 109,
   "metadata": {},
   "outputs": [
    {
     "name": "stdout",
     "output_type": "stream",
     "text": [
      "정렬 :  [1, 4, 3, 2]\n",
      "4\n"
     ]
    }
   ],
   "source": [
    "nums1 = [1,4,3,2]\n",
    "nums2 = [6,2,6,5,1,2]\n",
    "res = Solution.arrayPairSum(0,nums1)\n",
    "print(res)"
   ]
  },
  {
   "cell_type": "markdown",
   "metadata": {},
   "source": [
    "#### 1672번 Richest Customer Wealth\n",
    "\n",
    "\n",
    "\n",
    "mxn 정수 그리드 계정이 제공됩니다. 여기서 accounts [i] [j]는 i 번째 고객이 j 은행. 가장 부유 한 고객이 가진 부를 반환합니다.\n",
    "\n",
    "고객의 부는 모든 은행 계좌에있는 금액입니다. 가장 부유 한 고객은 최대의 부를 가진 고객입니다.\n",
    "\n",
    "- 주어진 중첩 리스트에서 가장 합이 큰 리스트의 합을 출력\n",
    "\n",
    "- 리스트 내부에 있는 각 리스트의 합을  map으로 sum함수에 매핑한 후 리스트로 반환하고 가장 큰 값을 리턴해준다."
   ]
  },
  {
   "cell_type": "code",
   "execution_count": 129,
   "metadata": {},
   "outputs": [],
   "source": [
    "# 44 ms \n",
    "class Solution:\n",
    "    def maximumWealth(self, accounts: [[int]]) -> int:\n",
    "        return max(map(sum, accounts))"
   ]
  },
  {
   "cell_type": "code",
   "execution_count": 130,
   "metadata": {},
   "outputs": [
    {
     "name": "stdout",
     "output_type": "stream",
     "text": [
      "10\n"
     ]
    }
   ],
   "source": [
    "accounts1 = [[1,2,3],[3,2,1]]\n",
    "accounts2 = [[1,5],[7,3],[3,5]]\n",
    "res = Solution.maximumWealth(0,accounts2)\n",
    "print(res)"
   ]
  },
  {
   "cell_type": "code",
   "execution_count": null,
   "metadata": {},
   "outputs": [],
   "source": []
  }
 ],
 "metadata": {
  "kernelspec": {
   "display_name": "Python 3",
   "language": "python",
   "name": "python3"
  },
  "language_info": {
   "codemirror_mode": {
    "name": "ipython",
    "version": 3
   },
   "file_extension": ".py",
   "mimetype": "text/x-python",
   "name": "python",
   "nbconvert_exporter": "python",
   "pygments_lexer": "ipython3",
   "version": "3.7.6"
  }
 },
 "nbformat": 4,
 "nbformat_minor": 4
}
