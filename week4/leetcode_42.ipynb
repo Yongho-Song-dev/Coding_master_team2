{
 "cells": [
  {
   "cell_type": "markdown",
   "metadata": {},
   "source": [
    "### 42. Trapping Rain Water [빗물 트래핑]\n",
    "- 각 막대의 너비가 1 인 고도지도를 나타내는 음이 아닌 정수 n 개가 주어지면 비가 내린 후 얼마나 많은 물을 가둘 수 있는지 계산합니다.\n",
    "\n",
    "- 배열에 크기를 블럭의 크기라 생각하고 1 0 1 일때는   \n",
    "\n",
    "\n",
    "- ■ ■ 크기 1 블럭이 양옆에 있고 중간에는 비어있는 구조이다.  \n",
    "\n",
    "\n",
    "- 여기서 비어 있는 부분에 물이 차이니 저기서 물은 1만큼 가둬집니다."
   ]
  },
  {
   "cell_type": "markdown",
   "metadata": {},
   "source": [
    "#### 가장 큰 값을 기준으로 왼쪽에서 오른쪽, 오른쪽에서 왼쪽으로 진행하자.\n",
    "L : 가장 큰 값을 기준으로 왼쪽에서 오른쪽 증가 값  \n",
    "R : 가장 큰 값을 기준으로 오른쪽에서 왼족 증가 값\n",
    "      \n",
    "##### Example\n",
    "```\n",
    "      ■□□■\n",
    "■□■■■□■\n",
    "```\n",
    "- 가장 큰 값이 2개가 있는 경우 0 번과 더 가까운 인덱스를 기준으로 잡는다. <br> 3번 인덱스를 기준으로 잡는다.\n",
    "```\n",
    "■□■\n",
    "```\n",
    "L\n",
    "3번 인덱스 전까지 블럭을 자르고 진행을 한다. 여기서 height의 값보다 가지고있는 값이 **더 작은 경우**  해당 값으로 포인트를 바꿔주고 그게 아닌 경우 포인트된 높이와 해당값을 뺀 결과를 누적한다.\n",
    "\n",
    "```\n",
    "■□□■\n",
    "■■□■\n",
    "```\n",
    "R\n",
    "-> 우측에서 좌측으로 진행하며 위의 L방법과 동일하게 진행한다.\n"
   ]
  },
  {
   "cell_type": "markdown",
   "metadata": {},
   "source": [
    "#### height [:idx+1} -> 구하고자 하는 trap 앞 까지\n",
    "#### height [idx +2:}  idx +2 구하고자하는 trap 뒤에 값\n",
    "\n",
    "- 1. 해당 슬라이딩 지점들의 max를 구하고 두 지점들 중 더 작은 값을 구한다.\n",
    "- 2. 현재 height보다 구한 값이 더 작은 경우에 구했던 작은 값-현재 height를 한다.\n"
   ]
  },
  {
   "cell_type": "markdown",
   "metadata": {},
   "source": [
    "#### 시간 복잡도 $O(N^2)$"
   ]
  },
  {
   "cell_type": "code",
   "execution_count": 40,
   "metadata": {},
   "outputs": [],
   "source": [
    "# 1736 ms\n",
    "class Solution:\n",
    "    def trap(self, height: [int]) -> int:\n",
    "        sum_water =0\n",
    "        l_max=r_max = 0\n",
    "        # 현재 인덱스 -1, 현재인덱스 +1 했을때 그 둘의 최소값보다 현재 값이 작은 경우\n",
    "        # 최소값 - 현재값\n",
    "        # 시작과 끝값은 제외하고 시작\n",
    "        for idx, h in enumerate(height[1:-1]) :\n",
    "            l_max, r_max  = max(height[:idx+1]), max(height[idx+2:])\n",
    "\n",
    "            if min(l_max,r_max) > h :  # 현재 값이 두 양옆의 최대 값의 min 보다 작은 경우\n",
    "                sum_water+= min(l_max,r_max)-h\n",
    "\n",
    "        return sum_water"
   ]
  },
  {
   "cell_type": "code",
   "execution_count": 44,
   "metadata": {},
   "outputs": [
    {
     "name": "stdout",
     "output_type": "stream",
     "text": [
      "0\n"
     ]
    }
   ],
   "source": [
    "height1 = [0,1,0,2,1,0,1,3,2,1,2,1]\n",
    "height2 = [2,0,2]\n",
    "res = Solution.trap(0, [0])\n",
    "print(res)"
   ]
  },
  {
   "cell_type": "markdown",
   "metadata": {},
   "source": [
    "---"
   ]
  },
  {
   "cell_type": "markdown",
   "metadata": {},
   "source": [
    "#### 시간복잡도 $O(N^2)$ 에서 $O(N)$으로 줄여보자!! "
   ]
  },
  {
   "cell_type": "markdown",
   "metadata": {},
   "source": [
    "1. 0이 아닌 부분의 다음 값이 0인 경우를 찾는다. (이때 해당 블럭 높이를 저장한다.)\n",
    "\n",
    "\n",
    "- 가장 큰 값을 기준으로 왼쪽-> 오른쪽, 오른쪽->왼쪽으로 진행하면서, 자신의 현재 블럭이 0이 아닐때, 다음의 진행하는 위치에 블럭이 자신보다 큰 경우 해당 블럭으로 포인트를 바꾸고 아닌경우 블럭의 높이에서 그 값만큼 빼준 후 누적한다."
   ]
  },
  {
   "cell_type": "code",
   "execution_count": 5,
   "metadata": {},
   "outputs": [],
   "source": [
    "# 44ms\n",
    "class Solution:\n",
    "    def trap(self, height: [int]) -> int:\n",
    "        L_p=R_p=0   #왼쪽 포인트, 오른쪽 포인트\n",
    "        sum_water = 0\n",
    "        if len(height) >0 :   \n",
    "            # 리스트가 0이 아닐때 max 연산이 가능하니 해당 부분을 예외처리 한다.\n",
    "            max_height = height.index(max(height)) \n",
    "        else : \n",
    "            return 0\n",
    "        print(\"max_height : \", max_height) # 가장 높은 값을 기준으로 왼-> 우 , 우 -> 왼\n",
    "\n",
    "        # L\n",
    "        for h in height[:max_height]:\n",
    "            if h>= L_p  and h>0:\n",
    "                L_p = h\n",
    "            else :\n",
    "                sum_water += L_p -h\n",
    "\n",
    "        print(\"L sum_water : \", sum_water)\n",
    "        # R\n",
    "        for idx , h in enumerate(height[len(height):max_height:-1]) :\n",
    "            # 끝에서부터 max_hieght 인덱스 전까지\n",
    "#            print(\"h : \", h)\n",
    "            if h>= R_p  and h>0:\n",
    "                R_p = h\n",
    "            else :\n",
    "                sum_water += R_p -h\n",
    "        print(\"L+R sum_water : \", sum_water)\n",
    "        return sum_water"
   ]
  },
  {
   "cell_type": "markdown",
   "metadata": {},
   "source": [
    "#### print 제외 코드"
   ]
  },
  {
   "cell_type": "code",
   "execution_count": 7,
   "metadata": {},
   "outputs": [],
   "source": [
    "class Solution:\n",
    "    def trap(self, height: [int]) -> int:\n",
    "        sum_water =L_p=R_p=0 \n",
    "        if len(height) >0 :\n",
    "            max_h = height.index(max(height))\n",
    "        else : \n",
    "            return 0\n",
    "\n",
    "        # L\n",
    "        for h in height[:max_h]:\n",
    "            if h>= L_p  and h>0:\n",
    "                L_p = h\n",
    "            else :\n",
    "                sum_water += L_p -h\n",
    "        # R\n",
    "        for  h in height[len(height):max_h:-1] :\n",
    "            if h>= R_p  and h>0:\n",
    "                R_p = h\n",
    "            else :\n",
    "                sum_water += R_p -h\n",
    "        return sum_water"
   ]
  },
  {
   "cell_type": "code",
   "execution_count": 8,
   "metadata": {},
   "outputs": [
    {
     "name": "stdout",
     "output_type": "stream",
     "text": [
      "6\n"
     ]
    }
   ],
   "source": [
    "height1 = [0,1,0,2,1,0,1,3,2,1,2,1]\n",
    "height2 = [2,0,2]\n",
    "res = Solution.trap(0, height1)\n",
    "print(res)"
   ]
  },
  {
   "cell_type": "code",
   "execution_count": null,
   "metadata": {},
   "outputs": [],
   "source": []
  }
 ],
 "metadata": {
  "kernelspec": {
   "display_name": "Python 3",
   "language": "python",
   "name": "python3"
  },
  "language_info": {
   "codemirror_mode": {
    "name": "ipython",
    "version": 3
   },
   "file_extension": ".py",
   "mimetype": "text/x-python",
   "name": "python",
   "nbconvert_exporter": "python",
   "pygments_lexer": "ipython3",
   "version": "3.7.9"
  }
 },
 "nbformat": 4,
 "nbformat_minor": 4
}
